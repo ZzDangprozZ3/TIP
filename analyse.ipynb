{
 "cells": [
  {
   "cell_type": "code",
   "execution_count": 1,
   "id": "0304ecf7",
   "metadata": {},
   "outputs": [],
   "source": [
    "import os\n",
    "import pandas as pd"
   ]
  },
  {
   "cell_type": "code",
   "execution_count": 10,
   "id": "f5075dd4",
   "metadata": {},
   "outputs": [
    {
     "name": "stdout",
     "output_type": "stream",
     "text": [
      "label\n",
      "dessert            2000\n",
      "soup               2000\n",
      "meat               1774\n",
      "bread              1356\n",
      "egg                1313\n",
      "seafood            1202\n",
      "fried              1174\n",
      "vegetable-fruit     941\n",
      "noodles-pasta       587\n",
      "dairy               573\n",
      "rice                376\n",
      "Name: count, dtype: int64\n"
     ]
    }
   ],
   "source": [
    "base_dir = \"../food-11/train\"\n",
    "data = []\n",
    "for category in os.listdir(base_dir):\n",
    "    if category.startswith('.'):\n",
    "        continue  # ignore les fichiers cachés comme .DS_Store\n",
    "    folder = os.path.join(base_dir, category)\n",
    "    for file in os.listdir(folder):\n",
    "        if file.startswith('.'):\n",
    "            continue\n",
    "        data.append({\"path\": os.path.join(folder, file), \"label\": category})\n",
    "\n",
    "\n",
    "df = pd.DataFrame(data)\n",
    "print(df['label'].value_counts())"
   ]
  }
 ],
 "metadata": {
  "kernelspec": {
   "display_name": "dco",
   "language": "python",
   "name": "python3"
  },
  "language_info": {
   "codemirror_mode": {
    "name": "ipython",
    "version": 3
   },
   "file_extension": ".py",
   "mimetype": "text/x-python",
   "name": "python",
   "nbconvert_exporter": "python",
   "pygments_lexer": "ipython3",
   "version": "3.12.11"
  }
 },
 "nbformat": 4,
 "nbformat_minor": 5
}
